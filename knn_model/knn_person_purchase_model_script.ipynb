{
 "cells": [
  {
   "cell_type": "code",
   "execution_count": 1,
   "metadata": {},
   "outputs": [],
   "source": [
    "#Sebastian Russo 79117092\n",
    "#Artificial Intelligence\n",
    "\n",
    "#Import necessary libraries\n",
    "#Library to manipulate and analyze datasets \n",
    "import pandas as pd\n",
    "\n",
    "#Library to manipulate and analyze datasets but in numpy arrays and for scientific computing in Python\n",
    "import numpy as np\n",
    "\n",
    "#------------------------------------------------------------------------------------------------\n",
    "#Import KNN model using the training set and required metrics\n",
    "#Library to import only to split datasets into random train and test subsets\n",
    "from sklearn.model_selection import train_test_split\n",
    "\n",
    "#self-explanatory\n",
    "from sklearn.neighbors import KNeighborsClassifier\n",
    "\n",
    "#To import the class in for feature scaling (standardize the range of independent variables)\n",
    "from sklearn.preprocessing import StandardScaler #CCOMPLETELY OPTIONAL\n",
    "\n",
    "#From the metrics module, import accuracy, f1, precision, recall and classification report\n",
    "from sklearn.metrics import accuracy_score, f1_score, precision_score, recall_score, classification_report\n",
    "#------------------------------------------------------------------------------------------------\n",
    "#Imports for Confusion Matrix and other data visualization\n",
    "#Library to make python matplotlib work like MATLAB\n",
    "import matplotlib.pyplot as plt  \n",
    "\n",
    "#Library for confusion matrix visualization\n",
    "from sklearn.metrics import confusion_matrix  \n",
    "\n",
    "#Library for data visualization and correlation matrix\n",
    "import seaborn as sns\n",
    "\n",
    "#To save the trained model\n",
    "import os\n",
    "import joblib "
   ]
  },
  {
   "cell_type": "code",
   "execution_count": 2,
   "metadata": {},
   "outputs": [
    {
     "name": "stdout",
     "output_type": "stream",
     "text": [
      "(400, 4)\n"
     ]
    },
    {
     "data": {
      "text/html": [
       "<div>\n",
       "<style scoped>\n",
       "    .dataframe tbody tr th:only-of-type {\n",
       "        vertical-align: middle;\n",
       "    }\n",
       "\n",
       "    .dataframe tbody tr th {\n",
       "        vertical-align: top;\n",
       "    }\n",
       "\n",
       "    .dataframe thead th {\n",
       "        text-align: right;\n",
       "    }\n",
       "</style>\n",
       "<table border=\"1\" class=\"dataframe\">\n",
       "  <thead>\n",
       "    <tr style=\"text-align: right;\">\n",
       "      <th></th>\n",
       "      <th>Gender</th>\n",
       "      <th>Age</th>\n",
       "      <th>EstimatedSalary</th>\n",
       "      <th>Purchased</th>\n",
       "    </tr>\n",
       "    <tr>\n",
       "      <th>User ID</th>\n",
       "      <th></th>\n",
       "      <th></th>\n",
       "      <th></th>\n",
       "      <th></th>\n",
       "    </tr>\n",
       "  </thead>\n",
       "  <tbody>\n",
       "    <tr>\n",
       "      <th>15624510</th>\n",
       "      <td>Male</td>\n",
       "      <td>19</td>\n",
       "      <td>19000</td>\n",
       "      <td>0</td>\n",
       "    </tr>\n",
       "    <tr>\n",
       "      <th>15810944</th>\n",
       "      <td>Male</td>\n",
       "      <td>35</td>\n",
       "      <td>20000</td>\n",
       "      <td>0</td>\n",
       "    </tr>\n",
       "    <tr>\n",
       "      <th>15668575</th>\n",
       "      <td>Female</td>\n",
       "      <td>26</td>\n",
       "      <td>43000</td>\n",
       "      <td>0</td>\n",
       "    </tr>\n",
       "    <tr>\n",
       "      <th>15603246</th>\n",
       "      <td>Female</td>\n",
       "      <td>27</td>\n",
       "      <td>57000</td>\n",
       "      <td>0</td>\n",
       "    </tr>\n",
       "    <tr>\n",
       "      <th>15804002</th>\n",
       "      <td>Male</td>\n",
       "      <td>19</td>\n",
       "      <td>76000</td>\n",
       "      <td>0</td>\n",
       "    </tr>\n",
       "  </tbody>\n",
       "</table>\n",
       "</div>"
      ],
      "text/plain": [
       "          Gender  Age  EstimatedSalary  Purchased\n",
       "User ID                                          \n",
       "15624510    Male   19            19000          0\n",
       "15810944    Male   35            20000          0\n",
       "15668575  Female   26            43000          0\n",
       "15603246  Female   27            57000          0\n",
       "15804002    Male   19            76000          0"
      ]
     },
     "execution_count": 2,
     "metadata": {},
     "output_type": "execute_result"
    }
   ],
   "source": [
    "#Import data set\n",
    "df_person_purchase= pd.read_csv(\"social_network_ads.csv\",index_col=0) \n",
    "#Nothing else necessary since it is a .csv, has header and \",\" as delimiters\n",
    "#index_col=0 will set the column at location 0 \"id\" as the index for all rows in the dataset\n",
    "\n",
    "#View shape of dataset\n",
    "print(df_person_purchase.shape)\n",
    "\n",
    "#Analyze dataset\n",
    "df_person_purchase.head()"
   ]
  },
  {
   "cell_type": "code",
   "execution_count": 3,
   "metadata": {},
   "outputs": [
    {
     "name": "stdout",
     "output_type": "stream",
     "text": [
      "Gender             0\n",
      "Age                0\n",
      "EstimatedSalary    0\n",
      "Purchased          0\n",
      "dtype: int64\n"
     ]
    }
   ],
   "source": [
    "#Check if there is any missing values in the data\n",
    "num_missing_values=df_person_purchase.isna().sum()\n",
    "\n",
    "#Print to see the missing values\n",
    "print(num_missing_values)"
   ]
  },
  {
   "cell_type": "code",
   "execution_count": 4,
   "metadata": {},
   "outputs": [
    {
     "data": {
      "text/html": [
       "<div>\n",
       "<style scoped>\n",
       "    .dataframe tbody tr th:only-of-type {\n",
       "        vertical-align: middle;\n",
       "    }\n",
       "\n",
       "    .dataframe tbody tr th {\n",
       "        vertical-align: top;\n",
       "    }\n",
       "\n",
       "    .dataframe thead th {\n",
       "        text-align: right;\n",
       "    }\n",
       "</style>\n",
       "<table border=\"1\" class=\"dataframe\">\n",
       "  <thead>\n",
       "    <tr style=\"text-align: right;\">\n",
       "      <th></th>\n",
       "      <th>Gender</th>\n",
       "      <th>Age</th>\n",
       "      <th>EstimatedSalary</th>\n",
       "      <th>Purchased</th>\n",
       "    </tr>\n",
       "    <tr>\n",
       "      <th>User ID</th>\n",
       "      <th></th>\n",
       "      <th></th>\n",
       "      <th></th>\n",
       "      <th></th>\n",
       "    </tr>\n",
       "  </thead>\n",
       "  <tbody>\n",
       "    <tr>\n",
       "      <th>15624510</th>\n",
       "      <td>0</td>\n",
       "      <td>19</td>\n",
       "      <td>19000</td>\n",
       "      <td>0</td>\n",
       "    </tr>\n",
       "    <tr>\n",
       "      <th>15810944</th>\n",
       "      <td>0</td>\n",
       "      <td>35</td>\n",
       "      <td>20000</td>\n",
       "      <td>0</td>\n",
       "    </tr>\n",
       "    <tr>\n",
       "      <th>15668575</th>\n",
       "      <td>1</td>\n",
       "      <td>26</td>\n",
       "      <td>43000</td>\n",
       "      <td>0</td>\n",
       "    </tr>\n",
       "    <tr>\n",
       "      <th>15603246</th>\n",
       "      <td>1</td>\n",
       "      <td>27</td>\n",
       "      <td>57000</td>\n",
       "      <td>0</td>\n",
       "    </tr>\n",
       "    <tr>\n",
       "      <th>15804002</th>\n",
       "      <td>0</td>\n",
       "      <td>19</td>\n",
       "      <td>76000</td>\n",
       "      <td>0</td>\n",
       "    </tr>\n",
       "  </tbody>\n",
       "</table>\n",
       "</div>"
      ],
      "text/plain": [
       "          Gender  Age  EstimatedSalary  Purchased\n",
       "User ID                                          \n",
       "15624510       0   19            19000          0\n",
       "15810944       0   35            20000          0\n",
       "15668575       1   26            43000          0\n",
       "15603246       1   27            57000          0\n",
       "15804002       0   19            76000          0"
      ]
     },
     "execution_count": 4,
     "metadata": {},
     "output_type": "execute_result"
    }
   ],
   "source": [
    "#Convert Categorical data from Gender column into numerical variables\n",
    "df_person_purchase[\"Gender\"]=df_person_purchase[\"Gender\"].map({\"Male\":0 , \"Female\":1})\n",
    "\n",
    "#Re-Analyze dataset\n",
    "df_person_purchase.head()"
   ]
  },
  {
   "cell_type": "code",
   "execution_count": 5,
   "metadata": {},
   "outputs": [
    {
     "name": "stdout",
     "output_type": "stream",
     "text": [
      "Independent variables: (400, 3)\n",
      "Dependent variables: (400,)\n"
     ]
    }
   ],
   "source": [
    "#Split dataset into features for independent_ and dependent_ \n",
    "independent_variable=df_person_purchase.iloc[:,:3] #From Pregnancies to Age\n",
    "dependent_variable=df_person_purchase.iloc[:,-1] #Just Outcome\n",
    "\n",
    "#Check size for both \n",
    "print(\"Independent variables:\",independent_variable.shape)\n",
    "\n",
    "print(\"Dependent variables:\",dependent_variable.shape)"
   ]
  },
  {
   "cell_type": "code",
   "execution_count": 6,
   "metadata": {},
   "outputs": [
    {
     "name": "stdout",
     "output_type": "stream",
     "text": [
      "independent_train set: (320, 3)\n",
      "independent_test set: (80, 3)\n",
      "dependent_train set: (320,)\n",
      "dependent_test set: (80,)\n"
     ]
    }
   ],
   "source": [
    "#Split the Independent and Dependent variables into training and testing sets (80%, 20%)\n",
    "independent_train, independent_test, dependent_train, dependent_test = train_test_split(independent_variable,\n",
    "                                                                                        dependent_variable,\n",
    "                                                                                        test_size=0.2,\n",
    "                                                                                        random_state=0)\n",
    "\n",
    "#Verify the shape for each split\n",
    "print(\"independent_train set:\",independent_train.shape)\n",
    "print(\"independent_test set:\",independent_test.shape)\n",
    "print(\"dependent_train set:\",dependent_train.shape)\n",
    "print(\"dependent_test set:\",dependent_test.shape)"
   ]
  },
  {
   "cell_type": "code",
   "execution_count": 7,
   "metadata": {},
   "outputs": [],
   "source": [
    "#Feature scaling for better performance\n",
    "independent_train=StandardScaler().fit_transform(independent_train)\n",
    "independent_test=StandardScaler().fit_transform(independent_test)"
   ]
  },
  {
   "cell_type": "code",
   "execution_count": 8,
   "metadata": {},
   "outputs": [
    {
     "data": {
      "text/plain": [
       "['trained_model/knn_classifier_ads.pkl']"
      ]
     },
     "execution_count": 8,
     "metadata": {},
     "output_type": "execute_result"
    }
   ],
   "source": [
    "#Create a model to classify purchased or not:\n",
    "knn_classifier= KNeighborsClassifier(n_neighbors=8, p=2,metric='euclidean')\n",
    "#n_neighbors is k value 8 is the best\n",
    "knn_classifier.fit(independent_train,dependent_train)\n",
    "\n",
    "#Create the folder if it doesn't exist\n",
    "os.makedirs('trained_model', exist_ok=True)\n",
    "\n",
    "#Save the model inside the folder\n",
    "joblib.dump(knn_classifier, 'trained_model/knn_classifier_ads.pkl')"
   ]
  },
  {
   "cell_type": "code",
   "execution_count": 9,
   "metadata": {},
   "outputs": [
    {
     "name": "stdout",
     "output_type": "stream",
     "text": [
      "Actual values [0 0 0 0 0 0 0 1 0 0 0 0 0 0 0 0 0 0 1 0 0 1 0 1 0 1 0 0 0 0]\n",
      "Predict values [0 0 0 0 0 0 0 1 0 1 0 0 0 0 0 1 0 0 1 0 0 1 0 1 0 1 0 0 0 0]\n"
     ]
    }
   ],
   "source": [
    "#Predict the outcome\n",
    "predicted_dependent= knn_classifier.predict(independent_test)\n",
    "\n",
    "#Check real values vs the predicted values\n",
    "print(\"Actual values\",dependent_test.values[0:30])\n",
    "print(\"Predict values\",predicted_dependent[0:30])"
   ]
  },
  {
   "cell_type": "code",
   "execution_count": 10,
   "metadata": {},
   "outputs": [
    {
     "name": "stdout",
     "output_type": "stream",
     "text": [
      "Simple confusion Matrix\n",
      "[[55  3]\n",
      " [ 1 21]]\n"
     ]
    },
    {
     "data": {
      "image/png": "[encoded data removed]",
      "text/plain": [
       "<Figure size 800x600 with 2 Axes>"
      ]
     },
     "metadata": {},
     "output_type": "display_data"
    }
   ],
   "source": [
    "#Create confusion matrix\n",
    "confusion_matrix=confusion_matrix(dependent_test,predicted_dependent)\n",
    "\n",
    "#Print confusion matrix\n",
    "print(\"Simple confusion Matrix\")\n",
    "print(confusion_matrix)\n",
    "\n",
    "#Create a heatmap to visualize the confusion matrix\n",
    "plt.figure(figsize=(8, 6))\n",
    "sns.heatmap(confusion_matrix, annot=True, fmt='d',\n",
    "            cmap='Blues', \n",
    "            xticklabels=['Predicted Negative', 'Predicted Positive'], \n",
    "            yticklabels=['Actual Negative', 'Actual Positive'])\n",
    "plt.xlabel('Predicted')\n",
    "plt.ylabel('Actual')\n",
    "plt.title('Confusion Matrix')\n",
    "plt.show()"
   ]
  },
  {
   "cell_type": "code",
   "execution_count": 11,
   "metadata": {},
   "outputs": [
    {
     "name": "stdout",
     "output_type": "stream",
     "text": [
      "accuracy:  0.95\n",
      "Precision: 0.875\n",
      "Recall: 0.9545454545454546\n",
      "F1 Score: 0.9130434782608695\n",
      "              precision    recall  f1-score   support\n",
      "\n",
      "           0       0.98      0.95      0.96        58\n",
      "           1       0.88      0.95      0.91        22\n",
      "\n",
      "    accuracy                           0.95        80\n",
      "   macro avg       0.93      0.95      0.94        80\n",
      "weighted avg       0.95      0.95      0.95        80\n",
      "\n"
     ]
    }
   ],
   "source": [
    "#Check accuracy of this model (all same as Logistic regression)\n",
    "accuracy= accuracy_score(dependent_test,predicted_dependent) #Ranges (0,1), the closer to 1 the better\n",
    "print(\"accuracy: \",accuracy)\n",
    "\n",
    "# Calculate precision\n",
    "precision = precision_score(dependent_test, predicted_dependent)\n",
    "print('Precision:', precision)\n",
    "\n",
    "# Calculate recall\n",
    "recall = recall_score(dependent_test, predicted_dependent)\n",
    "print('Recall:', recall)\n",
    "\n",
    "# Calculate F1 score\n",
    "f1 = f1_score(dependent_test, predicted_dependent)\n",
    "print('F1 Score:', f1)\n",
    "\n",
    "# Print the classification report\n",
    "classification_report= classification_report(dependent_test,predicted_dependent)\n",
    "print(classification_report)"
   ]
  }
 ],
 "metadata": {
  "kernelspec": {
   "display_name": "Python 3",
   "language": "python",
   "name": "python3"
  },
  "language_info": {
   "codemirror_mode": {
    "name": "ipython",
    "version": 3
   },
   "file_extension": ".py",
   "mimetype": "text/x-python",
   "name": "python",
   "nbconvert_exporter": "python",
   "pygments_lexer": "ipython3",
   "version": "3.12.5"
  }
 },
 "nbformat": 4,
 "nbformat_minor": 2
}
